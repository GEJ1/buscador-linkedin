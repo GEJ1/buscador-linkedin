{
  "cells": [
    {
      "cell_type": "markdown",
      "metadata": {
        "id": "view-in-github",
        "colab_type": "text"
      },
      "source": [
        "<a href=\"https://colab.research.google.com/github/GEJ1/buscador-linkedin/blob/main/generar_linkedin_embeddings.ipynb\" target=\"_parent\"><img src=\"https://colab.research.google.com/assets/colab-badge.svg\" alt=\"Open In Colab\"/></a>"
      ]
    },
    {
      "cell_type": "code",
      "source": [
        "# Instalamos sentence-transformers porque no viene en google colab\n",
        "!pip install sentence-transformers -q"
      ],
      "metadata": {
        "id": "LLp80zrI4wll"
      },
      "execution_count": null,
      "outputs": []
    },
    {
      "cell_type": "code",
      "execution_count": null,
      "metadata": {
        "id": "hEtWMKDxPCVE"
      },
      "outputs": [],
      "source": [
        "from sentence_transformers import SentenceTransformer\n",
        "from sklearn.metrics.pairwise import cosine_similarity\n",
        "from sklearn.metrics import DistanceMetric\n",
        "import numpy as np\n",
        "import json\n",
        "import pandas as pd\n",
        "import re"
      ]
    },
    {
      "cell_type": "markdown",
      "source": [
        "## Cargamos los datos\n",
        "\n",
        "El archivo `Shares.csv` es uno de los que proporciona Linkedin cuando le pedimos nuestros datos. Para hacer eso podés seguir estas instrucciones: https://www.linkedin.com/help/linkedin/answer/a1340367/descargar-los-datos-de-tu-cuenta?lang=es-ES"
      ],
      "metadata": {
        "id": "ezmCO1Qzah2v"
      }
    },
    {
      "cell_type": "code",
      "execution_count": null,
      "metadata": {
        "id": "mUc55qiJIH1p"
      },
      "outputs": [],
      "source": [
        "\n",
        "shares_data = pd.read_csv(\"https://raw.githubusercontent.com/GEJ1/buscador-linkedin/refs/heads/main/data/Shares.csv\")\n",
        "shares_data['ShareCommentary'] = shares_data['ShareCommentary'].fillna('')\n",
        "# Filtrar por longitud, esto es opcional\n",
        "shares_data = shares_data[shares_data['ShareCommentary'].str.len() > 20]\n",
        "shares_data.shape"
      ]
    },
    {
      "cell_type": "code",
      "execution_count": null,
      "metadata": {
        "id": "aCxjju27mru7"
      },
      "outputs": [],
      "source": [
        "shares_data.info()"
      ]
    },
    {
      "cell_type": "markdown",
      "source": [
        "## Cargamos el modelo y generamos los embeddings\n",
        "\n",
        "En este caso elegí uno en español. Másinformación: https://huggingface.co/hiiamsid/sentence_similarity_spanish_es"
      ],
      "metadata": {
        "id": "b9CkfG8_aVxr"
      }
    },
    {
      "cell_type": "code",
      "execution_count": null,
      "metadata": {
        "id": "rsYENGdnO5Do"
      },
      "outputs": [],
      "source": [
        "# Cargamos el modelo\n",
        "# https://huggingface.co/hiiamsid/sentence_similarity_spanish_es\n",
        "model_type = 'hiiamsid/sentence_similarity_spanish_es'\n",
        "model = SentenceTransformer(model_type)\n",
        "\n",
        "# Definimos el batch size\n",
        "batch_size = 32\n",
        "comments = shares_data['ShareCommentary'].tolist()\n",
        "\n",
        "# Generamos los embeddings en batches\n",
        "embeddings = []\n",
        "for i in range(0, len(comments), batch_size):\n",
        "    batch = comments[i:i + batch_size]\n",
        "    batch_embeddings = model.encode(batch)\n",
        "    embeddings.extend(batch_embeddings)\n",
        "\n",
        "# Convert embeddings to a NumPy array\n",
        "embeddings = np.array(embeddings)\n",
        "shares_data['embeddings'] = list(embeddings)\n"
      ]
    },
    {
      "cell_type": "markdown",
      "source": [
        "## Código para la búsqueda\n",
        "\n",
        "Lo importante es la comparación entre la query codificada en el modelo y los embeddings generados previamente.\n",
        "\n",
        "En este elegí la similaridad coseno para comparar."
      ],
      "metadata": {
        "id": "RNgyHKzkas3o"
      }
    },
    {
      "cell_type": "code",
      "execution_count": null,
      "metadata": {
        "id": "X7swjTppPY_P"
      },
      "outputs": [],
      "source": [
        "def search_posts(query, data, model, n=5):\n",
        "    query_embedding = model.encode([query])\n",
        "    embeddings = np.vstack(data['embeddings'])\n",
        "    similarities = cosine_similarity(query_embedding, embeddings).flatten()\n",
        "    top_indices = similarities.argsort()[-n:][::-1]  # Top n\n",
        "    return data.iloc[top_indices]\n",
        "\n",
        "# Step 6: Perform a Search\n",
        "query = \"quiero aprender python\"\n",
        "results = search_posts(query, shares_data, model,n=10)\n",
        "\n",
        "# Step 7: Display Results\n",
        "for i, row in results.iterrows():\n",
        "    print(f\"Post {i + 1}:\\n{row['ShareCommentary']}\\nLink: {row['ShareLink']}\\n{'-'*40}\")"
      ]
    },
    {
      "cell_type": "markdown",
      "source": [
        "## Guardamos la información con los embeddings\n",
        "\n",
        "Acá usé json porque sino al recuperarlos no funcionaba correctamente. Esto se debe a como guarda Pandas las celdas en formato string. Probablemente sería mejor guardar los embeddings por separado."
      ],
      "metadata": {
        "id": "uiT1sBBFbJrw"
      }
    },
    {
      "cell_type": "code",
      "execution_count": null,
      "metadata": {
        "id": "fLOTaiemlZAo"
      },
      "outputs": [],
      "source": [
        "shares_data['embeddings'] = shares_data['embeddings'].apply(lambda x: json.dumps(x.tolist()))\n",
        "shares_data.to_csv(f'Shares_with_embeddings_{model_type.split(\"/\")[-1]}.csv', index=False)"
      ]
    }
  ],
  "metadata": {
    "accelerator": "GPU",
    "colab": {
      "gpuType": "T4",
      "provenance": [],
      "authorship_tag": "ABX9TyO40YoQaVIaqRZaj6dH/RXC",
      "include_colab_link": true
    },
    "kernelspec": {
      "display_name": "Python 3",
      "name": "python3"
    },
    "language_info": {
      "name": "python"
    }
  },
  "nbformat": 4,
  "nbformat_minor": 0
}